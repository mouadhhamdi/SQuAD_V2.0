{
 "cells": [
  {
   "cell_type": "markdown",
   "metadata": {
    "toc": true
   },
   "source": [
    "<h1>Table of Contents<span class=\"tocSkip\"></span></h1>\n",
    "<div class=\"toc\"><ul class=\"toc-item\"></ul></div>"
   ]
  },
  {
   "cell_type": "code",
   "execution_count": 2,
   "metadata": {},
   "outputs": [],
   "source": [
    "import json\n",
    "import numpy as np\n",
    "import argparse\n",
    "import collections\n",
    "import random\n",
    "import tqdm\n",
    "import pandas as pd"
   ]
  },
  {
   "cell_type": "markdown",
   "metadata": {},
   "source": [
    "**This article explains how squad data was collected and data description:** \n",
    "[squad Description](https://rajpurkar.github.io/mlx/qa-and-squad/) <br>\n",
    "One defining characteristic of SQuAD is that the answers to all of the questions are\n",
    "segments of text, or spans, in the passage. These can be single or multiple words, and are not limited to entities – any span is fair game."
   ]
  },
  {
   "cell_type": "markdown",
   "metadata": {},
   "source": [
    "SQuAD uses two different metrics to evaluate how well a system does on the benchmark. The Exact Match metric measures the percentage of predictions that match any one of the ground truth answers exactly. The F1 score metric is a looser metric measures the average overlap between the prediction and ground truth answer.\n",
    "\n",
    "We first assess human performance on SQuAD. To evaluate human performance, we treat the one of the crowdsourced answers as the human prediction, and keep the other answers as ground truth answers. The resulting human performance score on the test set is 82.3% for the exact match metric, and 91.2% F1."
   ]
  },
  {
   "cell_type": "markdown",
   "metadata": {},
   "source": [
    "**Difference between V2 and V1:** SQuAD2.0 combines the 100,000 questions in SQuAD1.1 with over 50,000 new, unanswerable questions written adversarially by crowdworkers to look similar to answerable ones. "
   ]
  },
  {
   "cell_type": "markdown",
   "metadata": {},
   "source": [
    "**To see models performance on squad: [Official Sqaud site](https://rajpurkar.github.io/SQuAD-explorer/explore/v2.0/dev/)**"
   ]
  },
  {
   "cell_type": "code",
   "execution_count": 94,
   "metadata": {},
   "outputs": [],
   "source": [
    "# Read the train data\n",
    "data = pd.read_json(\"data/train-v2.0.json\")['data']"
   ]
  },
  {
   "cell_type": "code",
   "execution_count": 100,
   "metadata": {},
   "outputs": [],
   "source": [
    "def random_selection(data, seed):\n",
    "    '''\n",
    "    This function will select a random subject since it's the first key, \n",
    "    then it will choose a random tuple of qas and context from all the possible tuples.\n",
    "    '''\n",
    "    length = len(random.choice(data)['paragraphs'])\n",
    "    random.seed(seed)\n",
    "    choosed_data = random.choice(data)\n",
    "    choosed_index = random.randint(0, len(choosed_data['paragraphs']))\n",
    "    return {'title':choosed_data['title'], 'qas': choosed_data['paragraphs']\n",
    "                      [choosed_index]['qas'],\n",
    "          'context': choosed_data['paragraphs'][choosed_index]['context']}"
   ]
  },
  {
   "cell_type": "code",
   "execution_count": 101,
   "metadata": {},
   "outputs": [
    {
     "data": {
      "text/plain": [
       "{'title': 'University_of_Notre_Dame',\n",
       " 'qas': [{'question': 'How many colleges for undergraduates are at Notre Dame?',\n",
       "   'id': '5733a70c4776f41900660f62',\n",
       "   'answers': [{'text': 'five', 'answer_start': 68}],\n",
       "   'is_impossible': False},\n",
       "  {'question': 'What was created at Notre Dame in 1962 to assist first year students?',\n",
       "   'id': '5733a70c4776f41900660f63',\n",
       "   'answers': [{'text': 'The First Year of Studies program',\n",
       "     'answer_start': 155}],\n",
       "   'is_impossible': False},\n",
       "  {'question': 'What entity provides help with the management of time for new students at Notre Dame?',\n",
       "   'id': '5733a70c4776f41900660f64',\n",
       "   'answers': [{'text': 'Learning Resource Center', 'answer_start': 496}],\n",
       "   'is_impossible': False},\n",
       "  {'question': 'Which organization declared the First Year of Studies program at Notre Dame \"outstanding?\"',\n",
       "   'id': '5733a70c4776f41900660f65',\n",
       "   'answers': [{'text': 'U.S. News & World Report', 'answer_start': 647}],\n",
       "   'is_impossible': False}],\n",
       " 'context': \"All of Notre Dame's undergraduate students are a part of one of the five undergraduate colleges at the school or are in the First Year of Studies program. The First Year of Studies program was established in 1962 to guide incoming freshmen in their first year at the school before they have declared a major. Each student is given an academic advisor from the program who helps them to choose classes that give them exposure to any major in which they are interested. The program also includes a Learning Resource Center which provides time management, collaborative learning, and subject tutoring. This program has been recognized previously, by U.S. News & World Report, as outstanding.\"}"
      ]
     },
     "execution_count": 101,
     "metadata": {},
     "output_type": "execute_result"
    }
   ],
   "source": [
    "random_selection(data, 0)"
   ]
  },
  {
   "cell_type": "markdown",
   "metadata": {},
   "source": [
    "**Perfect correct answer rate! The text is descriptive text of the university of notre dame. The questions are kind of straightforward. Sentences in the context contain the same key words as in questions so maybe this explains why we have no errors.**"
   ]
  },
  {
   "cell_type": "code",
   "execution_count": 102,
   "metadata": {},
   "outputs": [
    {
     "data": {
      "text/plain": [
       "{'title': 'Dialect',\n",
       " 'qas': [{'question': 'After what war did Moscow begin to repress the Ukrainian language?',\n",
       "   'id': '56e8368700c9c71400d7765b',\n",
       "   'answers': [{'text': 'World War II', 'answer_start': 6}],\n",
       "   'is_impossible': False},\n",
       "  {'question': 'Why did Moscow begin to repress the Ukrainian language?',\n",
       "   'id': '56e8368700c9c71400d7765c',\n",
       "   'answers': [{'text': 'Ukrainian collaborationism with the Axis powers',\n",
       "     'answer_start': 27}],\n",
       "   'is_impossible': False},\n",
       "  {'question': 'Why did Ukrainians collaborate with the Axis?',\n",
       "   'id': '56e8368700c9c71400d7765d',\n",
       "   'answers': [{'text': 'to gain independence', 'answer_start': 89}],\n",
       "   'is_impossible': False},\n",
       "  {'plausible_answers': [{'text': 'changed its policy towards repression of the Ukrainian language.',\n",
       "     'answer_start': 118}],\n",
       "   'question': 'What happened to Moscow policy after World War I?',\n",
       "   'id': '5ad27f44d7d075001a42975c',\n",
       "   'answers': [],\n",
       "   'is_impossible': True},\n",
       "  {'plausible_answers': [{'text': 'After World War II', 'answer_start': 0}],\n",
       "   'question': 'When did the Ukraine change its policy towards repression of the Moscow language?',\n",
       "   'id': '5ad27f44d7d075001a42975d',\n",
       "   'answers': [],\n",
       "   'is_impossible': True},\n",
       "  {'plausible_answers': [{'text': 'After World War II', 'answer_start': 0}],\n",
       "   'question': 'When did collaboration between Moscow and the Axis powers cause the Ukraine to change policies?',\n",
       "   'id': '5ad27f44d7d075001a42975e',\n",
       "   'answers': [],\n",
       "   'is_impossible': True},\n",
       "  {'plausible_answers': [{'text': 'Ukrainian collaborationism with the Axis powers',\n",
       "     'answer_start': 27}],\n",
       "   'question': 'Whose collaboration caused Moscow to change its policy regarding independence? ',\n",
       "   'id': '5ad27f44d7d075001a42975f',\n",
       "   'answers': [],\n",
       "   'is_impossible': True},\n",
       "  {'plausible_answers': [{'text': 'Axis powers', 'answer_start': 63}],\n",
       "   'question': 'Who was in collaboration with Moscow?',\n",
       "   'id': '5ad27f44d7d075001a429760',\n",
       "   'answers': [],\n",
       "   'is_impossible': True}],\n",
       " 'context': 'After World War II, due to Ukrainian collaborationism with the Axis powers in an attempt to gain independence, Moscow changed its policy towards repression of the Ukrainian language.'}"
      ]
     },
     "execution_count": 102,
     "metadata": {},
     "output_type": "execute_result"
    }
   ],
   "source": [
    "random_selection(data, 1)"
   ]
  },
  {
   "cell_type": "markdown",
   "metadata": {},
   "source": [
    "**Even though the length of the context is too small! Just one sentence, we can see that the question 'When did the Ukraine change its policy towards repression of the Moscow language?' is classed as non answerable questions but the answer exists and it's put in the plausible answers instead of answers.<br>\n",
    "Also the last questions, so for this chunk of data we can say they we have the adequate responses.**"
   ]
  },
  {
   "cell_type": "code",
   "execution_count": 103,
   "metadata": {},
   "outputs": [
    {
     "data": {
      "text/plain": [
       "{'title': 'Matter',\n",
       " 'qas': [{'plausible_answers': [{'text': 'four', 'answer_start': 42}],\n",
       "   'question': 'How many quarks and leptons are there?',\n",
       "   'id': '5a7e05ef70df9f001a875425',\n",
       "   'answers': [],\n",
       "   'is_impossible': True},\n",
       "  {'plausible_answers': [{'text': 'The Standard Model', 'answer_start': 138}],\n",
       "   'question': 'What model satisfactorily explains gravity?',\n",
       "   'id': '5a7e05ef70df9f001a875426',\n",
       "   'answers': [],\n",
       "   'is_impossible': True},\n",
       "  {'plausible_answers': [{'text': 'force-carrying particles',\n",
       "     'answer_start': 472}],\n",
       "   'question': 'Interactions between quarks and leptons are the exchange of what?',\n",
       "   'id': '5a7e05ef70df9f001a875427',\n",
       "   'answers': [],\n",
       "   'is_impossible': True},\n",
       "  {'plausible_answers': [{'text': 'matter', 'answer_start': 711}],\n",
       "   'question': 'Mass and energy can always be compared to what?',\n",
       "   'id': '5a7e05ef70df9f001a875428',\n",
       "   'answers': [],\n",
       "   'is_impossible': True},\n",
       "  {'plausible_answers': [{'text': 'Planck', 'answer_start': 953}],\n",
       "   'question': 'What relation explains the carriers of the electric force?',\n",
       "   'id': '5a7e05ef70df9f001a875429',\n",
       "   'answers': [],\n",
       "   'is_impossible': True}],\n",
       " 'context': 'These quarks and leptons interact through four fundamental forces: gravity, electromagnetism, weak interactions, and strong interactions. The Standard Model of particle physics is currently the best explanation for all of physics, but despite decades of efforts, gravity cannot yet be accounted for at the quantum level; it is only described by classical physics (see quantum gravity and graviton). Interactions between quarks and leptons are the result of an exchange of force-carrying particles (such as photons) between quarks and leptons. The force-carrying particles are not themselves building blocks. As one consequence, mass and energy (which cannot be created or destroyed) cannot always be related to matter (which can be created out of non-matter particles such as photons, or even out of pure energy, such as kinetic energy). Force carriers are usually not considered matter: the carriers of the electric force (photons) possess energy (see Planck relation) and the carriers of the weak force (W and Z bosons) are massive, but neither are considered matter either. However, while these particles are not considered matter, they do contribute to the total mass of atoms, subatomic particles, and all systems that contain them.'}"
      ]
     },
     "execution_count": 103,
     "metadata": {},
     "output_type": "execute_result"
    }
   ],
   "source": [
    "random_selection(data, 2)"
   ]
  },
  {
   "cell_type": "markdown",
   "metadata": {},
   "source": [
    "**Here we can see that there is answers for all the questions giving that the size of the context is big compared to other contexts. Here some of the plausible answers are correct! but we can see that the text is about physics so maybe it's not obvious like other texts.<br>\n",
    "So if the model do not predict the correct answers for this kind of subjects it's normal since people who entered the responses does know the correct answers.**"
   ]
  },
  {
   "cell_type": "code",
   "execution_count": 104,
   "metadata": {},
   "outputs": [
    {
     "data": {
      "text/plain": [
       "{'title': 'Emotion',\n",
       " 'qas': [{'question': 'What do psychologists use to visually map emotional experiences?',\n",
       "   'id': '570a7cdb6d058f1900182ea0',\n",
       "   'answers': [{'text': 'multidimensional scaling', 'answer_start': 19}],\n",
       "   'is_impossible': False},\n",
       "  {'question': 'Along with valence, what is the other of the two dimensions used to map emotional experiences?',\n",
       "   'id': '570a7cdb6d058f1900182ea1',\n",
       "   'answers': [{'text': 'arousal', 'answer_start': 403}],\n",
       "   'is_impossible': False},\n",
       "  {'question': 'What is the term for the feeling of energy or enervation created by an emotional experience?',\n",
       "   'id': '570a7cdb6d058f1900182ea2',\n",
       "   'answers': [{'text': 'arousal', 'answer_start': 403}],\n",
       "   'is_impossible': False},\n",
       "  {'question': 'What is the term for the degree to which an emotional experience feels positive or negative?',\n",
       "   'id': '570a7cdb6d058f1900182ea3',\n",
       "   'answers': [{'text': 'valence', 'answer_start': 343}],\n",
       "   'is_impossible': False},\n",
       "  {'question': 'What component of emotion provides its perceived energy?',\n",
       "   'id': '570a7cdb6d058f1900182ea4',\n",
       "   'answers': [{'text': 'core affect', 'answer_start': 615}],\n",
       "   'is_impossible': False},\n",
       "  {'plausible_answers': [{'text': 'multidimensional scaling',\n",
       "     'answer_start': 19}],\n",
       "   'question': ' What do psychologists use to non-visually map emotional experiences?',\n",
       "   'id': '5ad24477d7d075001a428a5e',\n",
       "   'answers': [],\n",
       "   'is_impossible': True},\n",
       "  {'plausible_answers': [{'text': 'arousal', 'answer_start': 403}],\n",
       "   'question': 'Along with valence, what is the other of the three dimensions used to map emotional experiences?',\n",
       "   'id': '5ad24477d7d075001a428a5f',\n",
       "   'answers': [],\n",
       "   'is_impossible': True},\n",
       "  {'plausible_answers': [{'text': 'arousal', 'answer_start': 403}],\n",
       "   'question': \"What isn't the term for the feeling of energy or enervation created by an emotional experience?\",\n",
       "   'id': '5ad24477d7d075001a428a60',\n",
       "   'answers': [],\n",
       "   'is_impossible': True},\n",
       "  {'plausible_answers': [{'text': 'valence', 'answer_start': 343}],\n",
       "   'question': 'What is the term for the degree to which an non-emotional experience feels positive or negative?',\n",
       "   'id': '5ad24477d7d075001a428a61',\n",
       "   'answers': [],\n",
       "   'is_impossible': True},\n",
       "  {'plausible_answers': [{'text': 'Core affect', 'answer_start': 628}],\n",
       "   'question': ' What component of non-emotion provides its perceived energy?',\n",
       "   'id': '5ad24477d7d075001a428a62',\n",
       "   'answers': [],\n",
       "   'is_impossible': True}],\n",
       " 'context': 'Through the use of multidimensional scaling, psychologists can map out similar emotional experiences, which allows a visual depiction of the \"emotional distance\" between experiences. A further step can be taken by looking at the map\\'s dimensions of the emotional experiences. The emotional experiences are divided into two dimensions known as valence (how negative or positive the experience feels) and arousal (how energized or enervated the experience feels). These two dimensions can be depicted on a 2D coordinate map. This two-dimensional map was theorized to capture one important component of emotion called core affect. Core affect is not the only component to emotion, but gives the emotion its hedonic and felt energy.'}"
      ]
     },
     "execution_count": 104,
     "metadata": {},
     "output_type": "execute_result"
    }
   ],
   "source": [
    "random_selection(data, 3)"
   ]
  },
  {
   "cell_type": "markdown",
   "metadata": {},
   "source": [
    "**The text is kind of hard since it talks about psychology experiences, however when we use the negation in the questions people get confused!**"
   ]
  },
  {
   "cell_type": "code",
   "execution_count": 105,
   "metadata": {},
   "outputs": [
    {
     "data": {
      "text/plain": [
       "{'title': 'Hanover',\n",
       " 'qas': [{'question': 'What is a Schnellweg?',\n",
       "   'id': '570a01776d058f1900182c5e',\n",
       "   'answers': [{'text': 'expressway', 'answer_start': 20}],\n",
       "   'is_impossible': False},\n",
       "  {'question': 'What structure does the Schnellweg and a number of roads roughly form?',\n",
       "   'id': '570a01776d058f1900182c5f',\n",
       "   'answers': [{'text': 'a large ring road', 'answer_start': 109}],\n",
       "   'is_impossible': False},\n",
       "  {'question': 'When does the Messeschnellweg change to the B6?',\n",
       "   'id': '570a01776d058f1900182c60',\n",
       "   'answers': [{'text': 'Seelhorster Kreuz', 'answer_start': 354}],\n",
       "   'is_impossible': False},\n",
       "  {'question': 'What road does the Messeschnellweg pass the Hanover fairground as?',\n",
       "   'id': '570a01776d058f1900182c61',\n",
       "   'answers': [{'text': 'B6', 'answer_start': 411}],\n",
       "   'is_impossible': False},\n",
       "  {'question': 'What road does the Südschnellweg start out as?',\n",
       "   'id': '570a01776d058f1900182c62',\n",
       "   'answers': [{'text': 'B65', 'answer_start': 493}],\n",
       "   'is_impossible': False},\n",
       "  {'plausible_answers': [{'text': 'Westschnellweg', 'answer_start': 192}],\n",
       "   'question': 'What road is called the B6 on the southern part?',\n",
       "   'id': '5a1081e806e79900185c33cf',\n",
       "   'answers': [],\n",
       "   'is_impossible': True},\n",
       "  {'plausible_answers': [{'text': 'Messeschnellweg', 'answer_start': 259}],\n",
       "   'question': 'What road becomes B3 near Burgdorf?',\n",
       "   'id': '5a1081e806e79900185c33d0',\n",
       "   'answers': [],\n",
       "   'is_impossible': True},\n",
       "  {'plausible_answers': [{'text': 'Hanover fairground', 'answer_start': 389}],\n",
       "   'question': 'What fairground does the Messeschnellweg pass?',\n",
       "   'id': '5a1081e806e79900185c33d1',\n",
       "   'answers': [],\n",
       "   'is_impossible': True},\n",
       "  {'plausible_answers': [{'text': 'Westschnellweg', 'answer_start': 530}],\n",
       "   'question': 'What road does B sixty-five become at Seelhorster Kreuz?',\n",
       "   'id': '5a1081e806e79900185c33d2',\n",
       "   'answers': [],\n",
       "   'is_impossible': True}],\n",
       " 'context': 'The Schnellweg (en: expressway) system, a number of Bundesstraße roads, forms a structure loosely resembling a large ring road together with A2 and A7. The roads are B 3, B 6 and B 65, called Westschnellweg (B6 on the northern part, B3 on the southern part), Messeschnellweg (B3, becomes A37 near Burgdorf, crosses A2, becomes B3 again, changes to B6 at Seelhorster Kreuz, then passes the Hanover fairground as B6 and becomes A37 again before merging into A7) and Südschnellweg (starts out as B65, becomes B3/B6/B65 upon crossing Westschnellweg, then becomes B65 again at Seelhorster Kreuz).'}"
      ]
     },
     "execution_count": 105,
     "metadata": {},
     "output_type": "execute_result"
    }
   ],
   "source": [
    "random_selection(data, 4)"
   ]
  },
  {
   "cell_type": "markdown",
   "metadata": {},
   "source": [
    "**Here we can see that the text is too much complex even for human (me). To keep track of all the links is hard.**"
   ]
  },
  {
   "cell_type": "code",
   "execution_count": 106,
   "metadata": {},
   "outputs": [
    {
     "data": {
      "text/plain": [
       "{'title': 'Renewable_energy_commercialization',\n",
       " 'qas': [{'question': 'How is the wind industry in the USA able to produce more power at lower cost?',\n",
       "   'id': '572950ad6aef051400154cb4',\n",
       "   'answers': [{'text': 'by using taller wind turbines with longer blades',\n",
       "     'answer_start': 85}],\n",
       "   'is_impossible': False},\n",
       "  {'question': 'How tall are new wind turbines that are being built in Indiana, Michigan and Ohio?',\n",
       "   'id': '572950ad6aef051400154cb5',\n",
       "   'answers': [{'text': '300 feet to 400 feet above the ground',\n",
       "     'answer_start': 301}],\n",
       "   'is_impossible': False},\n",
       "  {'question': 'Wind turbines in the USA can now compete with what type of fuel?',\n",
       "   'id': '572950ad6aef051400154cb6',\n",
       "   'answers': [{'text': 'conventional fossil fuels like coal',\n",
       "     'answer_start': 360}],\n",
       "   'is_impossible': False},\n",
       "  {'question': 'Prices have fallen as low as what price?',\n",
       "   'id': '572950ad6aef051400154cb7',\n",
       "   'answers': [{'text': '4 cents per kilowatt-hour', 'answer_start': 425}],\n",
       "   'is_impossible': False},\n",
       "  {'plausible_answers': [{'text': 'using taller wind turbines',\n",
       "     'answer_start': 88}],\n",
       "   'question': 'How is the wind industry in the UK able to produce more power at lower cost?',\n",
       "   'id': '5ad12a5e645df0001a2d103a',\n",
       "   'answers': [],\n",
       "   'is_impossible': True},\n",
       "  {'plausible_answers': [{'text': '300 feet to 400 feet',\n",
       "     'answer_start': 301}],\n",
       "   'question': 'How tall are old wind turbines that are being built in Indiana, Michigan and Ohio?',\n",
       "   'id': '5ad12a5e645df0001a2d103b',\n",
       "   'answers': [],\n",
       "   'is_impossible': True},\n",
       "  {'plausible_answers': [{'text': 'conventional fossil fuels like coal',\n",
       "     'answer_start': 360}],\n",
       "   'question': 'Wind turbines in the UK can now compete with what type of fuel?',\n",
       "   'id': '5ad12a5e645df0001a2d103c',\n",
       "   'answers': [],\n",
       "   'is_impossible': True},\n",
       "  {'plausible_answers': [{'text': '4 cents per kilowatt-hour',\n",
       "     'answer_start': 425}],\n",
       "   'question': ' Prices have grown as high as what price?',\n",
       "   'id': '5ad12a5e645df0001a2d103d',\n",
       "   'answers': [],\n",
       "   'is_impossible': True}],\n",
       " 'context': 'As of 2014, the wind industry in the USA is able to produce more power at lower cost by using taller wind turbines with longer blades, capturing the faster winds at higher elevations. This has opened up new opportunities and in Indiana, Michigan, and Ohio, the price of power from wind turbines built 300 feet to 400 feet above the ground can now compete with conventional fossil fuels like coal. Prices have fallen to about 4 cents per kilowatt-hour in some cases and utilities have been increasing the amount of wind energy in their portfolio, saying it is their cheapest option.'}"
      ]
     },
     "execution_count": 106,
     "metadata": {},
     "output_type": "execute_result"
    }
   ],
   "source": [
    "random_selection(data, 5)"
   ]
  },
  {
   "cell_type": "code",
   "execution_count": 107,
   "metadata": {},
   "outputs": [
    {
     "data": {
      "text/plain": [
       "{'title': 'Bird',\n",
       " 'qas': [{'question': 'In which type of migration do birds use the sun to navigate by day and a stellar compass at night?',\n",
       "   'id': '5731e1c3b9d445190005e607',\n",
       "   'answers': [{'text': 'diurnal migrants', 'answer_start': 337}],\n",
       "   'is_impossible': False},\n",
       "  {'question': 'Some species use specialised photoreceptors to sense what?',\n",
       "   'id': '5731e1c3b9d445190005e608',\n",
       "   'answers': [{'text': \"the Earth's geomagnetism\", 'answer_start': 716}],\n",
       "   'is_impossible': False},\n",
       "  {'question': 'What do birds to compensate for the changing position of the sun during the day?',\n",
       "   'id': '5731e1c3b9d445190005e609',\n",
       "   'answers': [{'text': 'internal clock', 'answer_start': 534}],\n",
       "   'is_impossible': False}],\n",
       " 'context': \"The ability of birds to return to precise locations across vast distances has been known for some time; in an experiment conducted in the 1950s a Manx shearwater released in Boston returned to its colony in Skomer, Wales, within 13 days, a distance of 5,150 km (3,200 mi). Birds navigate during migration using a variety of methods. For diurnal migrants, the sun is used to navigate by day, and a stellar compass is used at night. Birds that use the sun compensate for the changing position of the sun during the day by the use of an internal clock. Orientation with the stellar compass depends on the position of the constellations surrounding Polaris. These are backed up in some species by their ability to sense the Earth's geomagnetism through specialised photoreceptors.\"}"
      ]
     },
     "execution_count": 107,
     "metadata": {},
     "output_type": "execute_result"
    }
   ],
   "source": [
    "random_selection(data, 6)"
   ]
  },
  {
   "cell_type": "code",
   "execution_count": null,
   "metadata": {},
   "outputs": [],
   "source": []
  }
 ],
 "metadata": {
  "hide_input": false,
  "kernelspec": {
   "display_name": "Python 3",
   "language": "python",
   "name": "python3"
  },
  "language_info": {
   "codemirror_mode": {
    "name": "ipython",
    "version": 3
   },
   "file_extension": ".py",
   "mimetype": "text/x-python",
   "name": "python",
   "nbconvert_exporter": "python",
   "pygments_lexer": "ipython3",
   "version": "3.7.3"
  },
  "latex_envs": {
   "LaTeX_envs_menu_present": true,
   "autoclose": false,
   "autocomplete": true,
   "bibliofile": "biblio.bib",
   "cite_by": "apalike",
   "current_citInitial": 1,
   "eqLabelWithNumbers": true,
   "eqNumInitial": 1,
   "hotkeys": {
    "equation": "Ctrl-E",
    "itemize": "Ctrl-I"
   },
   "labels_anchors": false,
   "latex_user_defs": false,
   "report_style_numbering": false,
   "user_envs_cfg": false
  },
  "toc": {
   "base_numbering": 1,
   "nav_menu": {},
   "number_sections": true,
   "sideBar": true,
   "skip_h1_title": false,
   "title_cell": "Table of Contents",
   "title_sidebar": "Contents",
   "toc_cell": true,
   "toc_position": {},
   "toc_section_display": true,
   "toc_window_display": true
  }
 },
 "nbformat": 4,
 "nbformat_minor": 2
}
