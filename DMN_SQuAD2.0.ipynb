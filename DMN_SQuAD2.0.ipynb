{
 "cells": [
  {
   "cell_type": "markdown",
   "metadata": {
    "toc": true
   },
   "source": [
    "<h1>Table of Contents<span class=\"tocSkip\"></span></h1>\n",
    "<div class=\"toc\"><ul class=\"toc-item\"><li><span><a href=\"#Dynamic-Memory-Networks-for-Question-Answering\" data-toc-modified-id=\"Dynamic-Memory-Networks-for-Question-Answering-1\"><span class=\"toc-item-num\">1&nbsp;&nbsp;</span>Dynamic Memory Networks for Question Answering</a></span></li><li><span><a href=\"#Model\" data-toc-modified-id=\"Model-2\"><span class=\"toc-item-num\">2&nbsp;&nbsp;</span>Model</a></span></li><li><span><a href=\"#Train\" data-toc-modified-id=\"Train-3\"><span class=\"toc-item-num\">3&nbsp;&nbsp;</span>Train</a></span></li><li><span><a href=\"#Test\" data-toc-modified-id=\"Test-4\"><span class=\"toc-item-num\">4&nbsp;&nbsp;</span>Test</a></span></li><li><span><a href=\"#Accuracy\" data-toc-modified-id=\"Accuracy-5\"><span class=\"toc-item-num\">5&nbsp;&nbsp;</span>Accuracy</a></span></li></ul></div>"
   ]
  },
  {
   "cell_type": "code",
   "execution_count": 74,
   "metadata": {},
   "outputs": [
    {
     "name": "stderr",
     "output_type": "stream",
     "text": [
      "usage: ipykernel_launcher.py [-h] [--foo FOO]\n",
      "ipykernel_launcher.py: error: unrecognized arguments: -f /run/user/1000/jupyter/kernel-422eddd7-bd5e-42e9-9f01-27f6d1040fa6.json\n"
     ]
    },
    {
     "ename": "SystemExit",
     "evalue": "2",
     "output_type": "error",
     "traceback": [
      "An exception has occurred, use %tb to see the full traceback.\n",
      "\u001b[0;31mSystemExit\u001b[0m\u001b[0;31m:\u001b[0m 2\n"
     ]
    },
    {
     "name": "stderr",
     "output_type": "stream",
     "text": [
      "/home/mouadh/anaconda3/lib/python3.7/site-packages/IPython/core/interactiveshell.py:3304: UserWarning: To exit: use 'exit', 'quit', or Ctrl-D.\n",
      "  warn(\"To exit: use 'exit', 'quit', or Ctrl-D.\", stacklevel=1)\n"
     ]
    }
   ],
   "source": []
  },
  {
   "cell_type": "markdown",
   "metadata": {},
   "source": [
    "# Dynamic Memory Networks for Question Answering"
   ]
  },
  {
   "cell_type": "markdown",
   "metadata": {},
   "source": [
    "- **[DMN Paper](https://arxiv.org/abs/1506.07285)**"
   ]
  },
  {
   "cell_type": "code",
   "execution_count": 30,
   "metadata": {},
   "outputs": [],
   "source": [
    "dataset = np.load('/home/mouadh/Desktop/squad/data/train.npz')"
   ]
  },
  {
   "cell_type": "code",
   "execution_count": 31,
   "metadata": {},
   "outputs": [],
   "source": [
    "context_char_idxs = torch.from_numpy(dataset['context_char_idxs']).long()"
   ]
  },
  {
   "cell_type": "code",
   "execution_count": 35,
   "metadata": {},
   "outputs": [
    {
     "data": {
      "text/plain": [
       "torch.Size([129922, 400, 16])"
      ]
     },
     "execution_count": 35,
     "metadata": {},
     "output_type": "execute_result"
    }
   ],
   "source": [
    "context_char_idxs.size()"
   ]
  },
  {
   "cell_type": "code",
   "execution_count": 68,
   "metadata": {},
   "outputs": [],
   "source": [
    "ones = torch.ones((129922, 2), dtype=torch.int64)"
   ]
  },
  {
   "cell_type": "code",
   "execution_count": 69,
   "metadata": {},
   "outputs": [
    {
     "data": {
      "text/plain": [
       "tensor([[1, 1],\n",
       "        [1, 1],\n",
       "        [1, 1],\n",
       "        ...,\n",
       "        [1, 1],\n",
       "        [1, 1],\n",
       "        [1, 1]])"
      ]
     },
     "execution_count": 69,
     "metadata": {},
     "output_type": "execute_result"
    }
   ],
   "source": [
    "ones"
   ]
  },
  {
   "cell_type": "code",
   "execution_count": 71,
   "metadata": {},
   "outputs": [
    {
     "data": {
      "text/plain": [
       "tensor([[[1],\n",
       "         [1]],\n",
       "\n",
       "        [[1],\n",
       "         [1]],\n",
       "\n",
       "        [[1],\n",
       "         [1]],\n",
       "\n",
       "        ...,\n",
       "\n",
       "        [[1],\n",
       "         [1]],\n",
       "\n",
       "        [[1],\n",
       "         [1]],\n",
       "\n",
       "        [[1],\n",
       "         [1]]])"
      ]
     },
     "execution_count": 71,
     "metadata": {},
     "output_type": "execute_result"
    }
   ],
   "source": [
    "ones.unsqueeze(2)"
   ]
  },
  {
   "cell_type": "code",
   "execution_count": 25,
   "metadata": {},
   "outputs": [],
   "source": [
    "import torch\n",
    "import torch.nn as nn\n",
    "from torch.autograd import Variable\n",
    "import torch.optim as optim\n",
    "import torch.nn.functional as F\n",
    "import nltk\n",
    "import random\n",
    "import numpy as np\n",
    "from collections import Counter, OrderedDict\n",
    "import nltk\n",
    "from copy import deepcopy\n",
    "import os\n",
    "import re\n",
    "import unicodedata\n",
    "from torch.nn.utils.rnn import PackedSequence, pack_padded_sequence\n",
    "# Fix a random seed to have reprodusable resaults\n",
    "random.seed(1024)\n",
    "\n",
    "flatten = lambda l: [item for sublist in l for item in sublist]\n",
    "import spacy\n",
    "nlp = spacy.blank(\"en\")"
   ]
  },
  {
   "cell_type": "code",
   "execution_count": 27,
   "metadata": {},
   "outputs": [],
   "source": [
    "s = nlp(\" hello word\")"
   ]
  },
  {
   "cell_type": "code",
   "execution_count": 28,
   "metadata": {},
   "outputs": [
    {
     "data": {
      "text/plain": [
       " hello word"
      ]
     },
     "execution_count": 28,
     "metadata": {},
     "output_type": "execute_result"
    }
   ],
   "source": [
    "s"
   ]
  },
  {
   "cell_type": "code",
   "execution_count": 29,
   "metadata": {},
   "outputs": [
    {
     "data": {
      "text/plain": [
       "[' ', 'hello', 'word']"
      ]
     },
     "execution_count": 29,
     "metadata": {},
     "output_type": "execute_result"
    }
   ],
   "source": [
    "[token.text for token in s]\n"
   ]
  },
  {
   "cell_type": "code",
   "execution_count": 2,
   "metadata": {},
   "outputs": [
    {
     "data": {
      "text/plain": [
       "True"
      ]
     },
     "execution_count": 2,
     "metadata": {},
     "output_type": "execute_result"
    }
   ],
   "source": [
    "# Check GPU \n",
    "torch.cuda.is_available()"
   ]
  },
  {
   "cell_type": "code",
   "execution_count": 3,
   "metadata": {},
   "outputs": [
    {
     "data": {
      "text/plain": [
       "'GeForce GTX 950M'"
      ]
     },
     "execution_count": 3,
     "metadata": {},
     "output_type": "execute_result"
    }
   ],
   "source": [
    "# Device name\n",
    "torch.cuda.get_device_name()"
   ]
  },
  {
   "cell_type": "code",
   "execution_count": 4,
   "metadata": {},
   "outputs": [],
   "source": [
    "# Use GPU when it's possible\n",
    "USE_CUDA = False# torch.cuda.is_available()\n",
    "gpus = [0]\n",
    "torch.cuda.set_device(gpus[0])\n",
    "\n",
    "FloatTensor = torch.cuda.FloatTensor if USE_CUDA else torch.FloatTensor\n",
    "LongTensor = torch.cuda.LongTensor if USE_CUDA else torch.LongTensor\n",
    "ByteTensor = torch.cuda.ByteTensor if USE_CUDA else torch.ByteTensor"
   ]
  },
  {
   "cell_type": "code",
   "execution_count": 5,
   "metadata": {},
   "outputs": [],
   "source": [
    "# This function will create batches from the train data\n",
    "def construct_batch(batch_size, train_data):\n",
    "    '''\n",
    "    This function will construct a batch from the data passed in input\n",
    "    \n",
    "    Arguments:\n",
    "    batch_size--the size of the batch, int\n",
    "    train_data--the data we will take out of it a batch\n",
    "    '''\n",
    "    # Shuffle randomly \n",
    "    random.shuffle(train_data)\n",
    "    # Start index\n",
    "    sindex = 0\n",
    "    #End index\n",
    "    eindex = batch_size\n",
    "    # While end index is smaller than the data size do\n",
    "    while eindex < len(train_data):\n",
    "        # get a chunck of data from sindex to eindex\n",
    "        batch = train_data[sindex: eindex]\n",
    "        # Start index become end index\n",
    "        sindex = eindex\n",
    "        # move end index to the next position\n",
    "        eindex = eindex + batch_size\n",
    "        # concatinate results\n",
    "        yield batch\n",
    "    \n",
    "    # Add the last chunk of data \n",
    "    if eindex >= len(train_data):\n",
    "        # This smaller than batch_siez\n",
    "        batch = train_data[sindex:]\n",
    "        yield batch"
   ]
  },
  {
   "cell_type": "code",
   "execution_count": 6,
   "metadata": {},
   "outputs": [],
   "source": [
    "def pad_to_batch(batch, w_to_ix): # for bAbI dataset\n",
    "    # Get list of facts, question and answer\n",
    "    fact,q,a = list(zip(*batch))\n",
    "    # the size of the biggest list of facts\n",
    "    max_fact = max([len(f) for f in fact])\n",
    "    # the size of the maximum length of a fact\n",
    "    max_len = max([f.size(1) for f in flatten(fact)])\n",
    "    # The size of the maximum length of question\n",
    "    max_q = max([qq.size(1) for qq in q])\n",
    "    # The size of the maximum fact of answers\n",
    "    max_a = max([aa.size(1) for aa in a])\n",
    "    \n",
    "    # \n",
    "    facts, fact_masks, q_p, a_p = [], [], [], []\n",
    "    for i in range(len(batch)):\n",
    "        # This will contain the padded strings from context\n",
    "        fact_p_t = []\n",
    "        for j in range(len(fact[i])):\n",
    "            # If not the size of the max add padding\n",
    "            if fact[i][j].size(1) < max_len:\n",
    "                fact_p_t.append(torch.cat([fact[i][j], Variable(LongTensor([w_to_ix['<PAD>']] * (max_len - fact[i][j].size(1)))).view(1, -1)], 1))\n",
    "            else:\n",
    "                fact_p_t.append(fact[i][j])\n",
    "                \n",
    "        # To have the same size of facts! we append facts conatining only padding as words\n",
    "        while len(fact_p_t) < max_fact:\n",
    "            fact_p_t.append(Variable(LongTensor([w_to_ix['<PAD>']] * max_len)).view(1, -1))\n",
    "\n",
    "        fact_p_t = torch.cat(fact_p_t)\n",
    "        facts.append(fact_p_t)\n",
    "        fact_masks.append(torch.cat([Variable(ByteTensor(tuple(map(lambda s: s==0, t.data))), \n",
    "                                        volatile=False) for t in fact_p_t]).view(fact_p_t.size(0), -1))\n",
    "\n",
    "        if q[i].size(1) < max_q:\n",
    "            q_p.append(torch.cat([q[i], Variable(LongTensor([w_to_ix['<PAD>']] * (max_q - q[i].size(1))))\\\n",
    "                                                  .view(1, -1)], 1))\n",
    "        else:\n",
    "            q_p.append(q[i])\n",
    "\n",
    "        if a[i].size(1) < max_a:\n",
    "            a_p.append(torch.cat([a[i], Variable(LongTensor([w_to_ix['<PAD>']] * (max_a - a[i].size(1)))).\\\n",
    "                                                    view(1, -1)], 1))\n",
    "        else:\n",
    "            a_p.append(a[i])\n",
    "\n",
    "    questions = torch.cat(q_p)\n",
    "    answers = torch.cat(a_p)\n",
    "    question_masks = torch.cat([Variable(ByteTensor(tuple(map(lambda s: s==0, t.data))), volatile=False) \n",
    "                                                for t in questions]).view(questions.size(0), -1)\n",
    "    \n",
    "    return facts, fact_masks, questions, question_masks, answers"
   ]
  },
  {
   "cell_type": "code",
   "execution_count": 7,
   "metadata": {},
   "outputs": [],
   "source": [
    "def prepare_sequence(seq, to_index):\n",
    "    idxs = list(map(lambda w: to_index[w] if to_index.get(w) is not None else to_index[\"<UNK>\"], seq))\n",
    "    return Variable(LongTensor(idxs))"
   ]
  },
  {
   "cell_type": "markdown",
   "metadata": {},
   "source": [
    "**Download tokenized train data but let's call it train to avoid confusion**"
   ]
  },
  {
   "cell_type": "code",
   "execution_count": 8,
   "metadata": {},
   "outputs": [],
   "source": [
    "import pandas as pd\n",
    "train = pd.read_csv('train.csv', index_col=0)"
   ]
  },
  {
   "cell_type": "code",
   "execution_count": 9,
   "metadata": {},
   "outputs": [
    {
     "data": {
      "text/html": [
       "<div>\n",
       "<style scoped>\n",
       "    .dataframe tbody tr th:only-of-type {\n",
       "        vertical-align: middle;\n",
       "    }\n",
       "\n",
       "    .dataframe tbody tr th {\n",
       "        vertical-align: top;\n",
       "    }\n",
       "\n",
       "    .dataframe thead th {\n",
       "        text-align: right;\n",
       "    }\n",
       "</style>\n",
       "<table border=\"1\" class=\"dataframe\">\n",
       "  <thead>\n",
       "    <tr style=\"text-align: right;\">\n",
       "      <th></th>\n",
       "      <th>title</th>\n",
       "      <th>context</th>\n",
       "      <th>ids</th>\n",
       "      <th>question</th>\n",
       "      <th>is_impossible</th>\n",
       "      <th>answer_start</th>\n",
       "      <th>text</th>\n",
       "      <th>answer_end</th>\n",
       "    </tr>\n",
       "  </thead>\n",
       "  <tbody>\n",
       "    <tr>\n",
       "      <th>0</th>\n",
       "      <td>Beyoncé</td>\n",
       "      <td>Beyoncé Giselle Knowles-Carter (/biːˈjɒnseɪ/ b...</td>\n",
       "      <td>56be85543aeaaa14008c9063</td>\n",
       "      <td>When did Beyonce start becoming popular?</td>\n",
       "      <td>False</td>\n",
       "      <td>269</td>\n",
       "      <td>in the late 1990s</td>\n",
       "      <td>286</td>\n",
       "    </tr>\n",
       "    <tr>\n",
       "      <th>1</th>\n",
       "      <td>Beyoncé</td>\n",
       "      <td>Beyoncé Giselle Knowles-Carter (/biːˈjɒnseɪ/ b...</td>\n",
       "      <td>56be85543aeaaa14008c9065</td>\n",
       "      <td>What areas did Beyonce compete in when she was...</td>\n",
       "      <td>False</td>\n",
       "      <td>207</td>\n",
       "      <td>singing and dancing</td>\n",
       "      <td>226</td>\n",
       "    </tr>\n",
       "    <tr>\n",
       "      <th>2</th>\n",
       "      <td>Beyoncé</td>\n",
       "      <td>Beyoncé Giselle Knowles-Carter (/biːˈjɒnseɪ/ b...</td>\n",
       "      <td>56be85543aeaaa14008c9066</td>\n",
       "      <td>When did Beyonce leave Destiny's Child and bec...</td>\n",
       "      <td>False</td>\n",
       "      <td>526</td>\n",
       "      <td>2003</td>\n",
       "      <td>530</td>\n",
       "    </tr>\n",
       "    <tr>\n",
       "      <th>3</th>\n",
       "      <td>Beyoncé</td>\n",
       "      <td>Beyoncé Giselle Knowles-Carter (/biːˈjɒnseɪ/ b...</td>\n",
       "      <td>56bf6b0f3aeaaa14008c9601</td>\n",
       "      <td>In what city and state did Beyonce  grow up?</td>\n",
       "      <td>False</td>\n",
       "      <td>166</td>\n",
       "      <td>Houston, Texas</td>\n",
       "      <td>180</td>\n",
       "    </tr>\n",
       "    <tr>\n",
       "      <th>4</th>\n",
       "      <td>Beyoncé</td>\n",
       "      <td>Beyoncé Giselle Knowles-Carter (/biːˈjɒnseɪ/ b...</td>\n",
       "      <td>56bf6b0f3aeaaa14008c9602</td>\n",
       "      <td>In which decade did Beyonce become famous?</td>\n",
       "      <td>False</td>\n",
       "      <td>276</td>\n",
       "      <td>late 1990s</td>\n",
       "      <td>286</td>\n",
       "    </tr>\n",
       "  </tbody>\n",
       "</table>\n",
       "</div>"
      ],
      "text/plain": [
       "     title                                            context  \\\n",
       "0  Beyoncé  Beyoncé Giselle Knowles-Carter (/biːˈjɒnseɪ/ b...   \n",
       "1  Beyoncé  Beyoncé Giselle Knowles-Carter (/biːˈjɒnseɪ/ b...   \n",
       "2  Beyoncé  Beyoncé Giselle Knowles-Carter (/biːˈjɒnseɪ/ b...   \n",
       "3  Beyoncé  Beyoncé Giselle Knowles-Carter (/biːˈjɒnseɪ/ b...   \n",
       "4  Beyoncé  Beyoncé Giselle Knowles-Carter (/biːˈjɒnseɪ/ b...   \n",
       "\n",
       "                        ids  \\\n",
       "0  56be85543aeaaa14008c9063   \n",
       "1  56be85543aeaaa14008c9065   \n",
       "2  56be85543aeaaa14008c9066   \n",
       "3  56bf6b0f3aeaaa14008c9601   \n",
       "4  56bf6b0f3aeaaa14008c9602   \n",
       "\n",
       "                                            question  is_impossible  \\\n",
       "0           When did Beyonce start becoming popular?          False   \n",
       "1  What areas did Beyonce compete in when she was...          False   \n",
       "2  When did Beyonce leave Destiny's Child and bec...          False   \n",
       "3       In what city and state did Beyonce  grow up?          False   \n",
       "4         In which decade did Beyonce become famous?          False   \n",
       "\n",
       "   answer_start                 text  answer_end  \n",
       "0           269    in the late 1990s         286  \n",
       "1           207  singing and dancing         226  \n",
       "2           526                 2003         530  \n",
       "3           166       Houston, Texas         180  \n",
       "4           276           late 1990s         286  "
      ]
     },
     "execution_count": 9,
     "metadata": {},
     "output_type": "execute_result"
    }
   ],
   "source": [
    "train.head()"
   ]
  },
  {
   "cell_type": "code",
   "execution_count": 10,
   "metadata": {},
   "outputs": [],
   "source": [
    "# New column contains the tokenized sentences\n",
    "train['context_seq'] = train['context'].map(lambda c: nltk.sent_tokenize(c))"
   ]
  },
  {
   "cell_type": "code",
   "execution_count": 11,
   "metadata": {},
   "outputs": [],
   "source": [
    "train.dropna(inplace=True)"
   ]
  },
  {
   "cell_type": "code",
   "execution_count": 12,
   "metadata": {},
   "outputs": [],
   "source": [
    "train = train[['context_seq', 'question', 'text']]"
   ]
  },
  {
   "cell_type": "code",
   "execution_count": 13,
   "metadata": {
    "scrolled": true
   },
   "outputs": [],
   "source": [
    "# Select the same subject fot train and test\n",
    "# train.loc[:500]"
   ]
  },
  {
   "cell_type": "code",
   "execution_count": 14,
   "metadata": {},
   "outputs": [],
   "source": [
    "# Work on sample of the data! No enough memory GPU \n",
    "random.seed(1024)\n",
    "test = train.loc[:1000].sample(n=30)\n",
    "train = train.loc[:1000].sample(n=900)"
   ]
  },
  {
   "cell_type": "code",
   "execution_count": 15,
   "metadata": {},
   "outputs": [],
   "source": [
    "from nltk.tokenize import RegexpTokenizer\n",
    "tokenizer = RegexpTokenizer(r'\\w+')\n",
    "def bAbI_data(data):\n",
    "    \n",
    "    data_p = []\n",
    "    # Data is a list of lists: [context][question][answer]\n",
    "    for d in data:\n",
    "        data_inter = []\n",
    "        cont = []\n",
    "        for c in d[0]:\n",
    "            # tokenize context\n",
    "            cont.append(tokenizer.tokenize(c) + ['</s>'])\n",
    "        data_inter.append(cont)\n",
    "        # tokenize question\n",
    "        data_inter.append(tokenizer.tokenize(d[1]) + ['?'])\n",
    "        # tokenize answer\n",
    "        data_inter.append(tokenizer.tokenize(d[2]) + ['</s>'])\n",
    "        # append results \n",
    "        data_p.append(data_inter)\n",
    "    return data_p"
   ]
  },
  {
   "cell_type": "code",
   "execution_count": 16,
   "metadata": {},
   "outputs": [],
   "source": [
    "def get_context_question_answer(train):\n",
    "    return list(train.values)"
   ]
  },
  {
   "cell_type": "code",
   "execution_count": 17,
   "metadata": {},
   "outputs": [],
   "source": [
    "# Get a list of list containing [[context]][question][answer]\n",
    "train_data = get_context_question_answer(train)"
   ]
  },
  {
   "cell_type": "code",
   "execution_count": 18,
   "metadata": {},
   "outputs": [],
   "source": [
    "# Process the data to look like a bAbI data\n",
    "train_data = bAbI_data(train_data)"
   ]
  },
  {
   "cell_type": "code",
   "execution_count": 19,
   "metadata": {},
   "outputs": [
    {
     "data": {
      "text/plain": [
       "[[['Her',\n",
       "   'fourth',\n",
       "   'studio',\n",
       "   'album',\n",
       "   '4',\n",
       "   'was',\n",
       "   'released',\n",
       "   'on',\n",
       "   'June',\n",
       "   '28',\n",
       "   '2011',\n",
       "   'in',\n",
       "   'the',\n",
       "   'US',\n",
       "   '</s>'],\n",
       "  ['4',\n",
       "   'sold',\n",
       "   '310',\n",
       "   '000',\n",
       "   'copies',\n",
       "   'in',\n",
       "   'its',\n",
       "   'first',\n",
       "   'week',\n",
       "   'and',\n",
       "   'debuted',\n",
       "   'atop',\n",
       "   'the',\n",
       "   'Billboard',\n",
       "   '200',\n",
       "   'chart',\n",
       "   'giving',\n",
       "   'Beyoncé',\n",
       "   'her',\n",
       "   'fourth',\n",
       "   'consecutive',\n",
       "   'number',\n",
       "   'one',\n",
       "   'album',\n",
       "   'in',\n",
       "   'the',\n",
       "   'US',\n",
       "   '</s>'],\n",
       "  ['The',\n",
       "   'album',\n",
       "   'was',\n",
       "   'preceded',\n",
       "   'by',\n",
       "   'two',\n",
       "   'of',\n",
       "   'its',\n",
       "   'singles',\n",
       "   'Run',\n",
       "   'the',\n",
       "   'World',\n",
       "   'Girls',\n",
       "   'and',\n",
       "   'Best',\n",
       "   'Thing',\n",
       "   'I',\n",
       "   'Never',\n",
       "   'Had',\n",
       "   'which',\n",
       "   'both',\n",
       "   'attained',\n",
       "   'moderate',\n",
       "   'success',\n",
       "   '</s>'],\n",
       "  ['The',\n",
       "   'fourth',\n",
       "   'single',\n",
       "   'Love',\n",
       "   'on',\n",
       "   'Top',\n",
       "   'was',\n",
       "   'a',\n",
       "   'commercial',\n",
       "   'success',\n",
       "   'in',\n",
       "   'the',\n",
       "   'US',\n",
       "   '</s>'],\n",
       "  ['4',\n",
       "   'also',\n",
       "   'produced',\n",
       "   'four',\n",
       "   'other',\n",
       "   'singles',\n",
       "   'Party',\n",
       "   'Countdown',\n",
       "   'I',\n",
       "   'Care',\n",
       "   'and',\n",
       "   'End',\n",
       "   'of',\n",
       "   'Time',\n",
       "   '</s>'],\n",
       "  ['Eat',\n",
       "   'Play',\n",
       "   'Love',\n",
       "   'a',\n",
       "   'cover',\n",
       "   'story',\n",
       "   'written',\n",
       "   'by',\n",
       "   'Beyoncé',\n",
       "   'for',\n",
       "   'Essence',\n",
       "   'that',\n",
       "   'detailed',\n",
       "   'her',\n",
       "   '2010',\n",
       "   'career',\n",
       "   'break',\n",
       "   'won',\n",
       "   'her',\n",
       "   'a',\n",
       "   'writing',\n",
       "   'award',\n",
       "   'from',\n",
       "   'the',\n",
       "   'New',\n",
       "   'York',\n",
       "   'Association',\n",
       "   'of',\n",
       "   'Black',\n",
       "   'Journalists',\n",
       "   '</s>'],\n",
       "  ['In',\n",
       "   'late',\n",
       "   '2011',\n",
       "   'she',\n",
       "   'took',\n",
       "   'the',\n",
       "   'stage',\n",
       "   'at',\n",
       "   'New',\n",
       "   'York',\n",
       "   's',\n",
       "   'Roseland',\n",
       "   'Ballroom',\n",
       "   'for',\n",
       "   'four',\n",
       "   'nights',\n",
       "   'of',\n",
       "   'special',\n",
       "   'performances',\n",
       "   'the',\n",
       "   '4',\n",
       "   'Intimate',\n",
       "   'Nights',\n",
       "   'with',\n",
       "   'Beyoncé',\n",
       "   'concerts',\n",
       "   'saw',\n",
       "   'the',\n",
       "   'performance',\n",
       "   'of',\n",
       "   'her',\n",
       "   '4',\n",
       "   'album',\n",
       "   'to',\n",
       "   'a',\n",
       "   'standing',\n",
       "   'room',\n",
       "   'only',\n",
       "   '</s>']],\n",
       " ['Where',\n",
       "  'did',\n",
       "  'Beyoncé',\n",
       "  'perform',\n",
       "  'for',\n",
       "  'four',\n",
       "  'nights',\n",
       "  'of',\n",
       "  'standing',\n",
       "  'room',\n",
       "  'only',\n",
       "  'concerts',\n",
       "  'in',\n",
       "  '2011',\n",
       "  '?'],\n",
       " ['New', 'York', 's', 'Roseland', 'Ballroom', '</s>']]"
      ]
     },
     "execution_count": 19,
     "metadata": {},
     "output_type": "execute_result"
    }
   ],
   "source": [
    "train_data[0]"
   ]
  },
  {
   "cell_type": "code",
   "execution_count": 21,
   "metadata": {},
   "outputs": [],
   "source": [
    "fact,q,a = list(zip(*train_data))"
   ]
  },
  {
   "cell_type": "code",
   "execution_count": 22,
   "metadata": {},
   "outputs": [],
   "source": [
    "# Construct the vocab\n",
    "vocab = list(set(flatten(flatten(fact)) + flatten(q) + flatten(a)))"
   ]
  },
  {
   "cell_type": "code",
   "execution_count": 23,
   "metadata": {},
   "outputs": [],
   "source": [
    "# Construct word2index dictionary\n",
    "word2index={'<PAD>': 0, '<UNK>': 1, '<s>': 2, '</s>': 3}\n",
    "for vo in vocab:\n",
    "    if word2index.get(vo) is None:\n",
    "        word2index[vo] = len(word2index)\n",
    "# Construct index2word dictionary\n",
    "index2word = {v:k for k, v in word2index.items()}"
   ]
  },
  {
   "cell_type": "code",
   "execution_count": 24,
   "metadata": {},
   "outputs": [
    {
     "data": {
      "text/plain": [
       "3414"
      ]
     },
     "execution_count": 24,
     "metadata": {},
     "output_type": "execute_result"
    }
   ],
   "source": [
    "len(word2index)"
   ]
  },
  {
   "cell_type": "markdown",
   "metadata": {},
   "source": [
    "An important number of words!"
   ]
  },
  {
   "cell_type": "code",
   "execution_count": 25,
   "metadata": {},
   "outputs": [],
   "source": [
    "def create_tensors_train(train_data):\n",
    "    for t in train_data:\n",
    "        for i,fact in enumerate(t[0]):\n",
    "            t[0][i] = prepare_sequence(fact, word2index).view(1, -1)\n",
    "\n",
    "        t[1] = prepare_sequence(t[1], word2index).view(1, -1)\n",
    "        t[2] = prepare_sequence(t[2], word2index).view(1, -1)\n",
    "    return t"
   ]
  },
  {
   "cell_type": "code",
   "execution_count": 26,
   "metadata": {},
   "outputs": [],
   "source": [
    "tensors = create_tensors_train(train_data)"
   ]
  },
  {
   "cell_type": "markdown",
   "metadata": {},
   "source": [
    "# Model"
   ]
  },
  {
   "cell_type": "code",
   "execution_count": 27,
   "metadata": {},
   "outputs": [
    {
     "data": {
      "image/png": "[encoded data removed]",
      "text/plain": [
       "<IPython.core.display.Image object>"
      ]
     },
     "execution_count": 27,
     "metadata": {},
     "output_type": "execute_result"
    }
   ],
   "source": [
    "from IPython.display import Image\n",
    "Image(filename='/home/mouadh/Desktop/SQuAD_V2.0/data/dmn.png')"
   ]
  },
  {
   "cell_type": "code",
   "execution_count": 28,
   "metadata": {},
   "outputs": [],
   "source": [
    "# Construct the DMN test\n",
    "\n",
    "class DMN(nn.Module):\n",
    "    def __init__(self, input_size, hidden_size, output_size, dropout_p=0.1):\n",
    "        super(DMN, self).__init__()\n",
    "        \n",
    "        self.hidden_size = hidden_size\n",
    "        self.embed = nn.Embedding(input_size, hidden_size, padding_idx=0) #sparse=True)\n",
    "        self.input_gru = nn.GRU(hidden_size, hidden_size, batch_first=True)\n",
    "        self.question_gru = nn.GRU(hidden_size, hidden_size, batch_first=True)\n",
    "        \n",
    "        self.gate = nn.Sequential(\n",
    "                            nn.Linear(hidden_size * 4, hidden_size),\n",
    "                            nn.Tanh(),\n",
    "                            nn.Linear(hidden_size, 1),\n",
    "                            nn.Sigmoid()\n",
    "                        )\n",
    "        \n",
    "        self.attention_grucell =  nn.GRUCell(hidden_size, hidden_size)\n",
    "        self.memory_grucell = nn.GRUCell(hidden_size, hidden_size)\n",
    "        self.answer_grucell = nn.GRUCell(hidden_size * 2, hidden_size)\n",
    "        self.answer_fc = nn.Linear(hidden_size, output_size)\n",
    "        \n",
    "        self.dropout = nn.Dropout(dropout_p)\n",
    "        \n",
    "    def init_hidden(self, inputs):\n",
    "        hidden = Variable(torch.zeros(1, inputs.size(0), self.hidden_size))\n",
    "        return hidden.cuda() if USE_CUDA else hidden\n",
    "    \n",
    "    def init_weight(self):\n",
    "        nn.init.xavier_uniform_(self.embed.state_dict()['weight'])\n",
    "        \n",
    "        for name, param in self.input_gru.state_dict().items():\n",
    "            if 'weight' in name: nn.init.xavier_normal_(param)\n",
    "        for name, param in self.question_gru.state_dict().items():\n",
    "            if 'weight' in name: nn.init.xavier_normal_(param)\n",
    "        for name, param in self.gate.state_dict().items():\n",
    "            if 'weight' in name: nn.init.xavier_normal_(param)\n",
    "        for name, param in self.attention_grucell.state_dict().items():\n",
    "            if 'weight' in name: nn.init.xavier_normal_(param)\n",
    "        for name, param in self.memory_grucell.state_dict().items():\n",
    "            if 'weight' in name: nn.init.xavier_normal_(param)\n",
    "        for name, param in self.answer_grucell.state_dict().items():\n",
    "            if 'weight' in name: nn.init.xavier_normal_(param)\n",
    "        \n",
    "        nn.init.xavier_normal_(self.answer_fc.state_dict()['weight'])\n",
    "        self.answer_fc.bias.data.fill_(0)\n",
    "        \n",
    "    def forward(self, facts, fact_masks, questions, question_masks, num_decode, episodes=3, is_training=False):\n",
    "        \"\"\"\n",
    "        facts : (B,T_C,T_I) / LongTensor in List # batch_size, num_of_facts, length_of_each_fact(padded)\n",
    "        fact_masks : (B,T_C,T_I) / ByteTensor in List # batch_size, num_of_facts, length_of_each_fact(padded)\n",
    "        questions : (B,T_Q) / LongTensor # batch_size, question_length\n",
    "        question_masks : (B,T_Q) / ByteTensor # batch_size, question_length\n",
    "        \"\"\"\n",
    "        # Input Module\n",
    "        C = [] # encoded facts\n",
    "        for fact, fact_mask in zip(facts, fact_masks):\n",
    "            embeds = self.embed(fact)\n",
    "            if is_training:\n",
    "                embeds = self.dropout(embeds)\n",
    "            hidden = self.init_hidden(fact)\n",
    "            outputs, hidden = self.input_gru(embeds, hidden)\n",
    "            real_hidden = []\n",
    "\n",
    "            for i, o in enumerate(outputs): # B,T,D\n",
    "                real_length = fact_mask[i].data.tolist().count(0) \n",
    "                real_hidden.append(o[real_length - 1])\n",
    "\n",
    "            C.append(torch.cat(real_hidden).view(fact.size(0), -1).unsqueeze(0))\n",
    "        \n",
    "        encoded_facts = torch.cat(C) # B,T_C,D\n",
    "        \n",
    "        # Question Module\n",
    "        embeds = self.embed(questions)\n",
    "        if is_training:\n",
    "            embeds = self.dropout(embeds)\n",
    "        hidden = self.init_hidden(questions)\n",
    "        outputs, hidden = self.question_gru(embeds, hidden)\n",
    "        \n",
    "        if isinstance(question_masks, torch.autograd.Variable):\n",
    "            real_question = []\n",
    "            for i, o in enumerate(outputs): # B,T,D\n",
    "                real_length = question_masks[i].data.tolist().count(0) \n",
    "                real_question.append(o[real_length - 1])\n",
    "            encoded_question = torch.cat(real_question).view(questions.size(0), -1) # B,D\n",
    "        else: # for inference mode\n",
    "            encoded_question = hidden.squeeze(0) # B,D\n",
    "            \n",
    "        # Episodic Memory Module\n",
    "        memory = encoded_question\n",
    "        T_C = encoded_facts.size(1)\n",
    "        B = encoded_facts.size(0)\n",
    "        for i in range(episodes):\n",
    "            hidden = self.init_hidden(encoded_facts.transpose(0, 1)[0]).squeeze(0) # B,D\n",
    "            for t in range(T_C):\n",
    "                #TODO: fact masking\n",
    "                #TODO: gate function => softmax\n",
    "                z = torch.cat([\n",
    "                                    encoded_facts.transpose(0, 1)[t] * encoded_question, # B,D , element-wise product\n",
    "                                    encoded_facts.transpose(0, 1)[t] * memory, # B,D , element-wise product\n",
    "                                    torch.abs(encoded_facts.transpose(0,1)[t] - encoded_question), # B,D\n",
    "                                    torch.abs(encoded_facts.transpose(0,1)[t] - memory) # B,D\n",
    "                                ], 1)\n",
    "                g_t = self.gate(z) # B,1 scalar\n",
    "                hidden = g_t * self.attention_grucell(encoded_facts.transpose(0, 1)[t], hidden) + (1 - g_t) * hidden\n",
    "                \n",
    "            e = hidden\n",
    "            memory = self.memory_grucell(e, memory)\n",
    "        \n",
    "        # Answer Module\n",
    "        answer_hidden = memory\n",
    "        start_decode = Variable(LongTensor([[word2index['<s>']] * memory.size(0)])).transpose(0, 1)\n",
    "        y_t_1 = self.embed(start_decode).squeeze(1) # B,D\n",
    "        \n",
    "        decodes = []\n",
    "        for t in range(num_decode):\n",
    "            answer_hidden = self.answer_grucell(torch.cat([y_t_1, encoded_question], 1), answer_hidden)\n",
    "            decodes.append(F.log_softmax(self.answer_fc(answer_hidden),1))\n",
    "        return torch.cat(decodes, 1).view(B * num_decode, -1)"
   ]
  },
  {
   "cell_type": "markdown",
   "metadata": {},
   "source": [
    "# Train"
   ]
  },
  {
   "cell_type": "code",
   "execution_count": 29,
   "metadata": {},
   "outputs": [],
   "source": [
    "HIDDEN_SIZE = 80\n",
    "BATCH_SIZE = 64\n",
    "LR = 0.001\n",
    "EPOCH = 10\n",
    "NUM_EPISODE = 3\n",
    "EARLY_STOPPING = False"
   ]
  },
  {
   "cell_type": "code",
   "execution_count": 30,
   "metadata": {},
   "outputs": [],
   "source": [
    "model = DMN(len(word2index), HIDDEN_SIZE, len(word2index))\n",
    "model.init_weight()\n",
    "if USE_CUDA:\n",
    "    model = model.cuda()\n",
    "\n",
    "loss_function = nn.CrossEntropyLoss(ignore_index=0)\n",
    "optimizer = optim.Adam(model.parameters(), lr=LR)"
   ]
  },
  {
   "cell_type": "code",
   "execution_count": 31,
   "metadata": {},
   "outputs": [],
   "source": [
    "model = DMN(len(word2index), HIDDEN_SIZE, len(word2index))\n",
    "model.init_weight()\n",
    "if USE_CUDA:\n",
    "    model = model.cuda()\n",
    "\n",
    "loss_function = nn.CrossEntropyLoss(ignore_index=0)\n",
    "optimizer = optim.Adam(model.parameters(), lr=LR)"
   ]
  },
  {
   "cell_type": "code",
   "execution_count": 32,
   "metadata": {
    "scrolled": true
   },
   "outputs": [
    {
     "name": "stdout",
     "output_type": "stream",
     "text": [
      "[0/10] mean_loss : 8.14\n",
      "[1/10] mean_loss : 7.39\n",
      "[2/10] mean_loss : 5.73\n",
      "[3/10] mean_loss : 5.18\n",
      "[4/10] mean_loss : 5.01\n",
      "[5/10] mean_loss : 5.13\n",
      "[6/10] mean_loss : 4.89\n",
      "[7/10] mean_loss : 4.99\n",
      "[8/10] mean_loss : 4.82\n",
      "[9/10] mean_loss : 5.09\n"
     ]
    }
   ],
   "source": [
    "for epoch in range(EPOCH):\n",
    "    losses = []\n",
    "    if EARLY_STOPPING: \n",
    "        break\n",
    "        \n",
    "    for i,batch in enumerate(construct_batch(BATCH_SIZE, train_data)):\n",
    "        facts, fact_masks, questions, question_masks, answers = pad_to_batch(batch, word2index)\n",
    "        \n",
    "        model.zero_grad()\n",
    "        pred = model(facts, fact_masks, questions, question_masks, answers.size(1), NUM_EPISODE, True)\n",
    "        loss = loss_function(pred, answers.view(-1))\n",
    "        #losses.append(loss.data.tolist()[0])\n",
    "        losses.append(loss.data.tolist())\n",
    "        \n",
    "        loss.backward()\n",
    "        optimizer.step()\n",
    "        \n",
    "        if i % 100 == 0:\n",
    "            print(\"[%d/%d] mean_loss : %0.2f\" %(epoch, EPOCH, np.mean(losses)))\n",
    "            \n",
    "            if np.mean(losses) < 0.01:\n",
    "                EARLY_STOPPING = True\n",
    "                print(\"Early Stopping!\")\n",
    "                break\n",
    "            losses = []"
   ]
  },
  {
   "cell_type": "markdown",
   "metadata": {},
   "source": [
    "# Test"
   ]
  },
  {
   "cell_type": "code",
   "execution_count": null,
   "metadata": {},
   "outputs": [],
   "source": []
  },
  {
   "cell_type": "code",
   "execution_count": 33,
   "metadata": {},
   "outputs": [],
   "source": [
    "# Test_data will be an other chunck of data from train_data\n",
    "test_data = test"
   ]
  },
  {
   "cell_type": "code",
   "execution_count": 34,
   "metadata": {},
   "outputs": [],
   "source": [
    "test_data = get_context_question_answer(test_data)"
   ]
  },
  {
   "cell_type": "code",
   "execution_count": 35,
   "metadata": {},
   "outputs": [
    {
     "data": {
      "text/plain": [
       "array([list(['Chopin arrived in Paris in late September 1831; he would never return to Poland, thus becoming one of many expatriates of the Polish Great Emigration.', 'In France he used the French versions of his given names, and after receiving French citizenship in 1835, he travelled on a French passport.', 'However, Chopin remained close to his fellow Poles in exile as friends and confidants and he never felt fully comfortable speaking French.', \"Chopin's biographer Adam Zamoyski writes that he never considered himself to be French, despite his father's French origins, and always saw himself as a Pole.\"]),\n",
       "       'What event was Frédéric a part of when he arrived in Paris during the later part of September in 1831?',\n",
       "       'the Polish Great Emigration'], dtype=object)"
      ]
     },
     "execution_count": 35,
     "metadata": {},
     "output_type": "execute_result"
    }
   ],
   "source": [
    "test_data[1]"
   ]
  },
  {
   "cell_type": "code",
   "execution_count": 36,
   "metadata": {},
   "outputs": [],
   "source": [
    "test_data = bAbI_data(test_data)"
   ]
  },
  {
   "cell_type": "code",
   "execution_count": 37,
   "metadata": {
    "scrolled": true
   },
   "outputs": [
    {
     "data": {
      "text/plain": [
       "[[['Chopin',\n",
       "   'arrived',\n",
       "   'in',\n",
       "   'Paris',\n",
       "   'in',\n",
       "   'late',\n",
       "   'September',\n",
       "   '1831',\n",
       "   'he',\n",
       "   'would',\n",
       "   'never',\n",
       "   'return',\n",
       "   'to',\n",
       "   'Poland',\n",
       "   'thus',\n",
       "   'becoming',\n",
       "   'one',\n",
       "   'of',\n",
       "   'many',\n",
       "   'expatriates',\n",
       "   'of',\n",
       "   'the',\n",
       "   'Polish',\n",
       "   'Great',\n",
       "   'Emigration',\n",
       "   '</s>'],\n",
       "  ['In',\n",
       "   'France',\n",
       "   'he',\n",
       "   'used',\n",
       "   'the',\n",
       "   'French',\n",
       "   'versions',\n",
       "   'of',\n",
       "   'his',\n",
       "   'given',\n",
       "   'names',\n",
       "   'and',\n",
       "   'after',\n",
       "   'receiving',\n",
       "   'French',\n",
       "   'citizenship',\n",
       "   'in',\n",
       "   '1835',\n",
       "   'he',\n",
       "   'travelled',\n",
       "   'on',\n",
       "   'a',\n",
       "   'French',\n",
       "   'passport',\n",
       "   '</s>'],\n",
       "  ['However',\n",
       "   'Chopin',\n",
       "   'remained',\n",
       "   'close',\n",
       "   'to',\n",
       "   'his',\n",
       "   'fellow',\n",
       "   'Poles',\n",
       "   'in',\n",
       "   'exile',\n",
       "   'as',\n",
       "   'friends',\n",
       "   'and',\n",
       "   'confidants',\n",
       "   'and',\n",
       "   'he',\n",
       "   'never',\n",
       "   'felt',\n",
       "   'fully',\n",
       "   'comfortable',\n",
       "   'speaking',\n",
       "   'French',\n",
       "   '</s>'],\n",
       "  ['Chopin',\n",
       "   's',\n",
       "   'biographer',\n",
       "   'Adam',\n",
       "   'Zamoyski',\n",
       "   'writes',\n",
       "   'that',\n",
       "   'he',\n",
       "   'never',\n",
       "   'considered',\n",
       "   'himself',\n",
       "   'to',\n",
       "   'be',\n",
       "   'French',\n",
       "   'despite',\n",
       "   'his',\n",
       "   'father',\n",
       "   's',\n",
       "   'French',\n",
       "   'origins',\n",
       "   'and',\n",
       "   'always',\n",
       "   'saw',\n",
       "   'himself',\n",
       "   'as',\n",
       "   'a',\n",
       "   'Pole',\n",
       "   '</s>']],\n",
       " ['What',\n",
       "  'event',\n",
       "  'was',\n",
       "  'Frédéric',\n",
       "  'a',\n",
       "  'part',\n",
       "  'of',\n",
       "  'when',\n",
       "  'he',\n",
       "  'arrived',\n",
       "  'in',\n",
       "  'Paris',\n",
       "  'during',\n",
       "  'the',\n",
       "  'later',\n",
       "  'part',\n",
       "  'of',\n",
       "  'September',\n",
       "  'in',\n",
       "  '1831',\n",
       "  '?'],\n",
       " ['the', 'Polish', 'Great', 'Emigration', '</s>']]"
      ]
     },
     "execution_count": 37,
     "metadata": {},
     "output_type": "execute_result"
    }
   ],
   "source": [
    "test_data[1]"
   ]
  },
  {
   "cell_type": "code",
   "execution_count": 38,
   "metadata": {},
   "outputs": [],
   "source": [
    "def create_tensors_test(test_data):\n",
    "    for t in test_data:\n",
    "        for i, fact in enumerate(t[0]):\n",
    "            t[0][i] = prepare_sequence(fact, word2index).view(1, -1)\n",
    "    \n",
    "        t[1] = prepare_sequence(t[1], word2index).view(1, -1)\n",
    "        t[2] = prepare_sequence(t[2], word2index).view(1, -1)\n",
    "    return test_data"
   ]
  },
  {
   "cell_type": "code",
   "execution_count": 39,
   "metadata": {},
   "outputs": [],
   "source": [
    "test_data = create_tensors_test(test_data)"
   ]
  },
  {
   "cell_type": "code",
   "execution_count": 40,
   "metadata": {},
   "outputs": [
    {
     "data": {
      "text/plain": [
       "[[tensor([[1405, 2679, 2851,  534, 2615, 3048,  811, 1545, 1521, 2933, 1708, 1281,\n",
       "           1949, 2267,  540,   92, 3069, 1537,  418, 3251,  778,  599, 1916,    3]]),\n",
       "  tensor([[ 940, 1979,   47,  421,  626, 1054,   35,  792, 3069, 3365, 2402,  647,\n",
       "           3208, 2982, 1439, 1545, 1276, 2276, 2249, 3208, 2789, 1521, 2933, 2265,\n",
       "           2510,  890,  811, 1545, 2267,  540,    3]])],\n",
       " tensor([[ 661, 3394,  792, 3223, 2615, 1202, 3069, 2276, 2249, 1174]]),\n",
       " tensor([[35,  3]])]"
      ]
     },
     "execution_count": 40,
     "metadata": {},
     "output_type": "execute_result"
    }
   ],
   "source": [
    "test_data[2]"
   ]
  },
  {
   "cell_type": "markdown",
   "metadata": {},
   "source": [
    "# Accuracy"
   ]
  },
  {
   "cell_type": "code",
   "execution_count": 41,
   "metadata": {},
   "outputs": [],
   "source": [
    "accuracy = 0"
   ]
  },
  {
   "cell_type": "code",
   "execution_count": 42,
   "metadata": {},
   "outputs": [],
   "source": [
    "def pad_to_fact(fact, x_to_ix): # this is for inference\n",
    "    \n",
    "    max_x = max([s.size(1) for s in fact])\n",
    "    x_p = []\n",
    "    for i in range(len(fact)):\n",
    "        if fact[i].size(1) < max_x:\n",
    "            x_p.append(torch.cat([fact[i], Variable(LongTensor([x_to_ix['<PAD>']] * (max_x - fact[i].size(1)))).view(1, -1)], 1))\n",
    "        else:\n",
    "            x_p.append(fact[i])\n",
    "        \n",
    "    fact = torch.cat(x_p)\n",
    "    fact_mask = torch.cat([Variable(ByteTensor(tuple(map(lambda s: s ==0, t.data))), volatile=False) for t in fact]).view(fact.size(0), -1)\n",
    "    return fact, fact_mask"
   ]
  },
  {
   "cell_type": "code",
   "execution_count": 47,
   "metadata": {},
   "outputs": [
    {
     "name": "stdout",
     "output_type": "stream",
     "text": [
      "0.0\n"
     ]
    }
   ],
   "source": [
    "for t in test_data:\n",
    "    fact, fact_mask = pad_to_fact(t[0], word2index)\n",
    "    question = t[1]\n",
    "    question_mask = Variable(ByteTensor([0] * t[1].size(1)), volatile=False).unsqueeze(0)\n",
    "    answer = t[2].squeeze(0)\n",
    "    \n",
    "    model.zero_grad()\n",
    "    pred = model([fact], [fact_mask], question, question_mask, answer.size(0), NUM_EPISODE)\n",
    "    if pred.max(1)[1].data.tolist() == answer.data.tolist():\n",
    "        accuracy += 1\n",
    "\n",
    "print(accuracy/len(test_data) * 100)"
   ]
  },
  {
   "cell_type": "code",
   "execution_count": 56,
   "metadata": {},
   "outputs": [
    {
     "name": "stdout",
     "output_type": "stream",
     "text": [
      "Facts : \n",
      "Chopin arrived in Paris in late September 1831 he would never return to Poland thus becoming one of many expatriates of the Polish Great Emigration </s> <PAD> <PAD>\n",
      "In France he used the French versions of his given names and after receiving French citizenship in 1835 he travelled on a French passport </s> <PAD> <PAD> <PAD>\n",
      "However Chopin remained close to his fellow Poles in exile as friends and confidants and he never felt fully comfortable speaking French </s> <PAD> <PAD> <PAD> <PAD> <PAD>\n",
      "Chopin s biographer Adam Zamoyski writes that he never considered himself to be French despite his father s French origins and always saw himself as a Pole </s>\n",
      "\n",
      "Question :  What event was Frédéric a part of when he arrived in Paris during the later part of September in 1831 ?\n",
      "\n",
      "Answer :  the Polish Great Emigration </s>\n",
      "Prediction :  </s> </s> </s> </s> </s>\n"
     ]
    }
   ],
   "source": [
    "t = random.choice(test_data)\n",
    "fact, fact_mask = pad_to_fact(t[0], word2index)\n",
    "question = t[1]\n",
    "question_mask = Variable(ByteTensor([0] * t[1].size(1)), volatile=False).unsqueeze(0)\n",
    "answer = t[2].squeeze(0)\n",
    "\n",
    "model.zero_grad()\n",
    "pred = model([fact], [fact_mask], question, question_mask, answer.size(0), NUM_EPISODE)\n",
    "\n",
    "print(\"Facts : \")\n",
    "print('\\n'.join([' '.join(list(map(lambda x: index2word[x],f))) for f in fact.data.tolist()]))\n",
    "print(\"\")\n",
    "print(\"Question : \",' '.join(list(map(lambda x: index2word[x], question.data.tolist()[0]))))\n",
    "print(\"\")\n",
    "print(\"Answer : \",' '.join(list(map(lambda x: index2word[x], answer.data.tolist()))))\n",
    "print(\"Prediction : \",' '.join(list(map(lambda x: index2word[x], pred.max(1)[1].data.tolist()))))"
   ]
  },
  {
   "cell_type": "code",
   "execution_count": null,
   "metadata": {},
   "outputs": [],
   "source": []
  }
 ],
 "metadata": {
  "hide_input": false,
  "kernelspec": {
   "display_name": "Python 3",
   "language": "python",
   "name": "python3"
  },
  "language_info": {
   "codemirror_mode": {
    "name": "ipython",
    "version": 3
   },
   "file_extension": ".py",
   "mimetype": "text/x-python",
   "name": "python",
   "nbconvert_exporter": "python",
   "pygments_lexer": "ipython3",
   "version": "3.7.3"
  },
  "latex_envs": {
   "LaTeX_envs_menu_present": true,
   "autoclose": false,
   "autocomplete": true,
   "bibliofile": "biblio.bib",
   "cite_by": "apalike",
   "current_citInitial": 1,
   "eqLabelWithNumbers": true,
   "eqNumInitial": 1,
   "hotkeys": {
    "equation": "Ctrl-E",
    "itemize": "Ctrl-I"
   },
   "labels_anchors": false,
   "latex_user_defs": false,
   "report_style_numbering": false,
   "user_envs_cfg": false
  },
  "toc": {
   "base_numbering": 1,
   "nav_menu": {},
   "number_sections": true,
   "sideBar": true,
   "skip_h1_title": false,
   "title_cell": "Table of Contents",
   "title_sidebar": "Contents",
   "toc_cell": true,
   "toc_position": {
    "height": "calc(100% - 180px)",
    "left": "10px",
    "top": "150px",
    "width": "187.062px"
   },
   "toc_section_display": true,
   "toc_window_display": true
  }
 },
 "nbformat": 4,
 "nbformat_minor": 2
}
